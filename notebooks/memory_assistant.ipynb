{
 "cells": [
  {
   "cell_type": "code",
   "execution_count": 14,
   "metadata": {},
   "outputs": [],
   "source": [
    "from openai import OpenAI \n",
    "import yaml\n",
    "import os\n",
    "from dotenv import load_dotenv\n",
    "\n",
    "load_dotenv()\n",
    "\n",
    "MODEL=\"gpt-4o\"\n",
    "OPENAI_API_KEY = os.environ.get(\"OPENAI_API_KEY\", \"<your OpenAI API key if not set as an env var>\")\n",
    "DB_INDEX_FILE_LOCAL_PATH = os.environ.get(\"DB_INDEX_FILE_LOCAL_PATH\", \"<path to the index.json file>\")\n",
    "DB_ROOT_LOCAL_PATH = os.environ.get(\"DB_ROOT_LOCAL_PATH\", \"<path to the root directory of the database>\")\n",
    "\n",
    "openAiClient = OpenAI(api_key=OPENAI_API_KEY)\n",
    "\n",
    "with open(\"../prompts/memoryClassifier.yml\", \"r\") as file:\n",
    "    group_classifier = yaml.safe_load(file)\n",
    "\n",
    "system_prompt_for_classifier = group_classifier[\"prompt\"]\n",
    "\n",
    "with open(\"../prompts/memoryAssistant.yml\", \"r\") as file:\n",
    "    group_classifier = yaml.safe_load(file)\n",
    "\n",
    "system_prompt_for_assistant = group_classifier[\"prompt\"]\n",
    "\n",
    "with open(DB_INDEX_FILE_LOCAL_PATH, \"r\") as file:\n",
    "    metadata = file.read()"
   ]
  },
  {
   "cell_type": "code",
   "execution_count": 15,
   "metadata": {},
   "outputs": [],
   "source": [
    "def create_messages_for_classifier(query, metadata):\n",
    "    return [\n",
    "        {\n",
    "            \"role\": \"system\",\n",
    "            \"content\": system_prompt_for_classifier\n",
    "        },\n",
    "        {\n",
    "            \"role\": \"user\",\n",
    "            \"content\": f\"Query: ${query}\"\n",
    "        },\n",
    "        {\n",
    "            \"role\": \"user\",\n",
    "            \"content\": f\"Metadata: ${metadata}\"\n",
    "        }        \n",
    "    ]\n",
    "\n",
    "def create_messages_for_assistant(query, memories):\n",
    "    return [\n",
    "        {\n",
    "            \"role\": \"system\",\n",
    "            \"content\": system_prompt_for_assistant\n",
    "        },\n",
    "        {\n",
    "            \"role\": \"user\",\n",
    "            \"content\": f\"Query: ${query}\"\n",
    "        },\n",
    "        {\n",
    "            \"role\": \"user\",\n",
    "            \"content\": f\"Memories: ${memories}\"\n",
    "        }\n",
    "    ]"
   ]
  },
  {
   "cell_type": "code",
   "execution_count": 19,
   "metadata": {},
   "outputs": [
    {
     "name": "stdout",
     "output_type": "stream",
     "text": [
      "{\n",
      "  \"thinking_process\": \"The user's query is about movie recommendations. Based on the provided metadata, the most relevant category is 'AREAS' under 'ENTERTAINMENT/tv_shows', which includes a list of TV shows the user has watched. Although the query is specifically about movies, the TV shows list might provide some context or related recommendations. No other categories or files seem directly relevant to movie recommendations.\",\n",
      "  \"keys\": [\n",
      "    \"AREAS/ENTERTAINMENT/tv_shows\"\n",
      "  ]\n",
      "}\n"
     ]
    }
   ],
   "source": [
    "query = \"any movie to recommend?\"\n",
    "completion = openAiClient.chat.completions.create(\n",
    "    model=MODEL,\n",
    "    temperature=0,\n",
    "    stream=False,\n",
    "    response_format={\"type\": \"json_object\"},\n",
    "    messages=create_messages_for_classifier(query, metadata)),\n",
    "\n",
    "completion_content = completion[0].choices[0].message.content\n",
    "print(completion_content)"
   ]
  },
  {
   "cell_type": "code",
   "execution_count": 20,
   "metadata": {},
   "outputs": [
    {
     "name": "stdout",
     "output_type": "stream",
     "text": [
      "{\n",
      "  \"thinking_process\": \"The user has asked for a movie recommendation, but the provided memories only contain a list of TV shows they have watched. To provide a relevant movie recommendation, I need to consider the genres and themes of the TV shows the user enjoys. Based on the variety of shows listed, the user seems to enjoy a mix of drama, thriller, sci-fi, comedy, and fantasy. I will recommend a movie that aligns with these interests.\",\n",
      "  \"response\": \"Based on your interest in a variety of TV shows including drama, thriller, sci-fi, comedy, and fantasy, I recommend watching 'Inception'. It's a mind-bending thriller with a complex plot and stunning visuals, directed by Christopher Nolan. If you're in the mood for something lighter, 'The Grand Budapest Hotel' by Wes Anderson is a fantastic comedy-drama with a unique style and great performances.\"\n",
      "}\n"
     ]
    }
   ],
   "source": [
    "# parse the response in JSON and print the value of *data*\n",
    "import json\n",
    "\n",
    "\n",
    "keys = json.loads(completion_content)[\"keys\"]\n",
    "\n",
    "memories = []\n",
    "for key in keys:\n",
    "    memory_asset_path = os.path.join(DB_ROOT_LOCAL_PATH, key)\n",
    "    with open(memory_asset_path, \"r\") as file:\n",
    "        memory_asset_content = file.read()\n",
    "        memories.append({\n",
    "            \"path\": key,\n",
    "            \"content\": memory_asset_content\n",
    "        })\n",
    "\n",
    "memories_string = json.dumps(memories)\n",
    "\n",
    "completion = openAiClient.chat.completions.create(\n",
    "    model=MODEL,\n",
    "    temperature=0,\n",
    "    stream=False,\n",
    "    response_format={\"type\": \"json_object\"},\n",
    "    messages=create_messages_for_assistant(query, memories_string)),\n",
    "\n",
    "completion_content = completion[0].choices[0].message.content\n",
    "print(completion_content)    \n"
   ]
  }
 ],
 "metadata": {
  "kernelspec": {
   "display_name": "babel-api-32QMvPeQ-py3.12",
   "language": "python",
   "name": "python3"
  },
  "language_info": {
   "codemirror_mode": {
    "name": "ipython",
    "version": 3
   },
   "file_extension": ".py",
   "mimetype": "text/x-python",
   "name": "python",
   "nbconvert_exporter": "python",
   "pygments_lexer": "ipython3",
   "version": "3.12.1"
  }
 },
 "nbformat": 4,
 "nbformat_minor": 2
}
