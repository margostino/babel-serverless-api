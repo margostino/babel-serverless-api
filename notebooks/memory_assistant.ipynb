{
 "cells": [
  {
   "cell_type": "code",
   "execution_count": 6,
   "metadata": {},
   "outputs": [],
   "source": [
    "from openai import OpenAI \n",
    "import yaml\n",
    "import os\n",
    "from dotenv import load_dotenv\n",
    "\n",
    "load_dotenv()\n",
    "\n",
    "MODEL=\"gpt-4o\"\n",
    "OPENAI_API_KEY = os.environ.get(\"OPENAI_API_KEY\", \"<your OpenAI API key if not set as an env var>\")\n",
    "DB_INDEX_FILE_LOCAL_PATH = os.environ.get(\"DB_INDEX_FILE_LOCAL_PATH\", \"<path to the index.json file>\")\n",
    "DB_ROOT_LOCAL_PATH = os.environ.get(\"DB_ROOT_LOCAL_PATH\", \"<path to the root directory of the database>\")\n",
    "\n",
    "openAiClient = OpenAI(api_key=OPENAI_API_KEY)\n",
    "\n",
    "with open(\"../prompts/memoryClassifier.yml\", \"r\") as file:\n",
    "    group_classifier = yaml.safe_load(file)\n",
    "\n",
    "system_prompt_for_classifier = group_classifier[\"prompt\"]\n",
    "\n",
    "with open(\"../prompts/memoryAssistant.yml\", \"r\") as file:\n",
    "    group_classifier = yaml.safe_load(file)\n",
    "\n",
    "system_prompt_for_assistant = group_classifier[\"prompt\"]\n",
    "\n",
    "with open(DB_INDEX_FILE_LOCAL_PATH, \"r\") as file:\n",
    "    metadata = file.read()"
   ]
  },
  {
   "cell_type": "code",
   "execution_count": 7,
   "metadata": {},
   "outputs": [],
   "source": [
    "def create_messages_for_classifier(query, metadata):\n",
    "    return [\n",
    "        {\n",
    "            \"role\": \"system\",\n",
    "            \"content\": system_prompt_for_classifier\n",
    "        },\n",
    "        {\n",
    "            \"role\": \"user\",\n",
    "            \"content\": f\"Query: ${query}\"\n",
    "        },\n",
    "        {\n",
    "            \"role\": \"user\",\n",
    "            \"content\": f\"Metadata: ${metadata}\"\n",
    "        }        \n",
    "    ]\n",
    "\n",
    "def create_messages_for_assistant(query, memories):\n",
    "    return [\n",
    "        {\n",
    "            \"role\": \"system\",\n",
    "            \"content\": system_prompt_for_assistant\n",
    "        },\n",
    "        {\n",
    "            \"role\": \"user\",\n",
    "            \"content\": f\"Query: ${query}\"\n",
    "        },\n",
    "        {\n",
    "            \"role\": \"user\",\n",
    "            \"content\": f\"Memories: ${memories}\"\n",
    "        }\n",
    "    ]"
   ]
  },
  {
   "cell_type": "code",
   "execution_count": 12,
   "metadata": {},
   "outputs": [
    {
     "name": "stdout",
     "output_type": "stream",
     "text": [
      "{\n",
      "  \"thinking_process\": \"The user's query is about movie recommendations, which falls under the category of entertainment. Based on the metadata provided, the most relevant file is 'AREAS/ENTERTAINMENT/tv_shows', which contains a list of TV shows the user has watched. Although it primarily lists TV shows, it might also include references to movies or similar entertainment content.\",\n",
      "  \"keys\": [\n",
      "    \"AREAS/ENTERTAINMENT/tv_shows\"\n",
      "  ]\n",
      "}\n"
     ]
    }
   ],
   "source": [
    "query = \"any movie to recommend?\"\n",
    "completion = openAiClient.chat.completions.create(\n",
    "    model=MODEL,\n",
    "    temperature=0,\n",
    "    stream=False,\n",
    "    response_format={\"type\": \"json_object\"},\n",
    "    messages=create_messages_for_classifier(query, metadata)),\n",
    "\n",
    "completion_content = completion[0].choices[0].message.content\n",
    "print(completion_content)"
   ]
  },
  {
   "cell_type": "code",
   "execution_count": 13,
   "metadata": {},
   "outputs": [
    {
     "name": "stdout",
     "output_type": "stream",
     "text": [
      "{\n",
      "  \"thinking_process\": \"The user has asked for a movie recommendation. The provided memories list TV shows the user has watched, which gives insight into their preferences. Based on the genres and themes of these shows, I can suggest movies that align with their interests.\",\n",
      "  \"response\": \"Based on the TV shows you've enjoyed, here are a few movie recommendations:\\n\\n1. **Inception** - If you liked 'Westworld' and 'Black Mirror', you'll enjoy this mind-bending sci-fi thriller.\\n2. **The Social Network** - Given your interest in 'Billions' and 'Succession', this film about the founding of Facebook might intrigue you.\\n3. **The Grand Budapest Hotel** - If you enjoyed 'The Crown' and 'Downton Abbey', this quirky, visually stunning film by Wes Anderson could be a great pick.\\n4. **Parasite** - If you liked 'Ozark' and 'Breaking Bad', this dark, thrilling, and critically acclaimed film might be right up your alley.\\n5. **Knives Out** - If you enjoyed 'Broadchurch' and 'Mare of Easttown', this modern whodunit with a star-studded cast could be a great choice.\\n\\nEnjoy your movie time!\"\n",
      "}\n"
     ]
    }
   ],
   "source": [
    "# parse the response in JSON and print the value of *data*\n",
    "import json\n",
    "\n",
    "\n",
    "keys = json.loads(completion_content)[\"keys\"]\n",
    "\n",
    "memories = []\n",
    "for key in keys:\n",
    "    memory_asset_path = os.path.join(DB_ROOT_LOCAL_PATH, key)\n",
    "    with open(memory_asset_path, \"r\") as file:\n",
    "        memory_asset_content = file.read()\n",
    "        memories.append({\n",
    "            \"path\": key,\n",
    "            \"content\": memory_asset_content\n",
    "        })\n",
    "\n",
    "memories_string = json.dumps(memories)\n",
    "\n",
    "completion = openAiClient.chat.completions.create(\n",
    "    model=MODEL,\n",
    "    temperature=0,\n",
    "    stream=False,\n",
    "    response_format={\"type\": \"json_object\"},\n",
    "    messages=create_messages_for_assistant(query, memories_string)),\n",
    "\n",
    "completion_content = completion[0].choices[0].message.content\n",
    "print(completion_content)    \n"
   ]
  }
 ],
 "metadata": {
  "kernelspec": {
   "display_name": "babel-api-32QMvPeQ-py3.12",
   "language": "python",
   "name": "python3"
  },
  "language_info": {
   "codemirror_mode": {
    "name": "ipython",
    "version": 3
   },
   "file_extension": ".py",
   "mimetype": "text/x-python",
   "name": "python",
   "nbconvert_exporter": "python",
   "pygments_lexer": "ipython3",
   "version": "3.12.1"
  }
 },
 "nbformat": 4,
 "nbformat_minor": 2
}
