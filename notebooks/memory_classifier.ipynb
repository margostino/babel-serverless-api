{
 "cells": [
  {
   "cell_type": "code",
   "execution_count": 17,
   "metadata": {},
   "outputs": [],
   "source": [
    "from openai import OpenAI \n",
    "import yaml\n",
    "import os\n",
    "from dotenv import load_dotenv\n",
    "\n",
    "load_dotenv()\n",
    "\n",
    "MODEL=\"gpt-4o\"\n",
    "OPENAI_API_KEY = os.environ.get(\"OPENAI_API_KEY\", \"<your OpenAI API key if not set as an env var>\")\n",
    "DB_INDEX_FILE_PATH = os.environ.get(\"DB_INDEX_FILE_PATH\", \"<path to the index.json file>\")\n",
    "openAiClient = OpenAI(api_key=OPENAI_API_KEY)\n",
    "\n",
    "with open(\"../prompts/memoryClassifier.yml\", \"r\") as file:\n",
    "    group_classifier = yaml.safe_load(file)\n",
    "\n",
    "system_prompt = group_classifier[\"prompt\"]\n",
    "\n",
    "with open(DB_INDEX_FILE_PATH, \"r\") as file:\n",
    "    metadata = file.read()"
   ]
  },
  {
   "cell_type": "code",
   "execution_count": 18,
   "metadata": {},
   "outputs": [],
   "source": [
    "def create_messages(input, metadata):\n",
    "    return [\n",
    "        {\n",
    "            \"role\": \"system\",\n",
    "            \"content\": system_prompt\n",
    "        },\n",
    "        {\n",
    "            \"role\": \"user\",\n",
    "            \"content\": f\"Query: ${input}\"\n",
    "        },\n",
    "        {\n",
    "            \"role\": \"user\",\n",
    "            \"content\": f\"Metadata: ${metadata}\"\n",
    "        }        \n",
    "    ]"
   ]
  },
  {
   "cell_type": "code",
   "execution_count": 23,
   "metadata": {},
   "outputs": [
    {
     "name": "stdout",
     "output_type": "stream",
     "text": [
      "{\n",
      "  \"thinking_process\": \"The user's query is about memories related to vacations. Based on the metadata provided, the relevant category for this query is 'Areas' as it includes long-term responsibilities and interests, which can encompass travel and vacation plans.\",\n",
      "  \"keys\": [\n",
      "    \"AREAS/TRAVELLING/galicia\",\n",
      "    \"AREAS/TRAVELLING/roadmap_23-24\",\n",
      "    \"AREAS/TRAVELLING/travelling\"\n",
      "  ]\n",
      "}\n"
     ]
    }
   ],
   "source": [
    "# input = \"notes about KP-API\"\n",
    "input = \"any memory about vacation\"\n",
    "completion = openAiClient.chat.completions.create(\n",
    "    model=MODEL,\n",
    "    temperature=0,\n",
    "    stream=False,\n",
    "    response_format={\"type\": \"json_object\"},\n",
    "    messages=create_messages(input, metadata)),\n",
    "\n",
    "print(completion[0].choices[0].message.content)"
   ]
  }
 ],
 "metadata": {
  "kernelspec": {
   "display_name": "babel-api-32QMvPeQ-py3.12",
   "language": "python",
   "name": "python3"
  },
  "language_info": {
   "codemirror_mode": {
    "name": "ipython",
    "version": 3
   },
   "file_extension": ".py",
   "mimetype": "text/x-python",
   "name": "python",
   "nbconvert_exporter": "python",
   "pygments_lexer": "ipython3",
   "version": "3.12.1"
  }
 },
 "nbformat": 4,
 "nbformat_minor": 2
}
